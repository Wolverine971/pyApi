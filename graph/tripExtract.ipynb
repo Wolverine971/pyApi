{
 "cells": [
  {
   "cell_type": "code",
   "execution_count": 5,
   "metadata": {},
   "outputs": [
    {
     "name": "stdout",
     "output_type": "stream",
     "text": [
      "showing info https://raw.githubusercontent.com/nltk/nltk_data/gh-pages/index.xml\n"
     ]
    },
    {
     "data": {
      "text/plain": [
       "True"
      ]
     },
     "execution_count": 5,
     "metadata": {},
     "output_type": "execute_result"
    }
   ],
   "source": [
    "import nltk, pandas as pd, numpy as np\n",
    "from nltk.parse.corenlp import CoreNLPParser, CoreNLPDependencyParser\n",
    "from nltk.tree import ParentedTree\n",
    "nltk.download()"
   ]
  },
  {
   "cell_type": "code",
   "execution_count": 22,
   "metadata": {},
   "outputs": [],
   "source": [
    "dep_parser = CoreNLPDependencyParser(url='http://localhost:9000')\n",
    "pos_tagger = CoreNLPParser(url='http://localhost:9000', tagtype='pos')"
   ]
  },
  {
   "cell_type": "code",
   "execution_count": 23,
   "metadata": {},
   "outputs": [],
   "source": [
    "def triplet_extraction (input_sent, output=['parse_tree','spo','result']):\n",
    "    # Parse the input sentence with Stanford CoreNLP Parser\n",
    "    pos_type = pos_tagger.tag(input_sent.split())\n",
    "    parse_tree, = ParentedTree.convert(list(pos_tagger.parse(input_sent.split()))[0])\n",
    "    dep_type, = ParentedTree.convert(dep_parser.parse(input_sent.split()))\n",
    "    # Extract subject, predicate and object\n",
    "    subject = extract_subject(parse_tree)\n",
    "    predicate = extract_predicate(parse_tree)\n",
    "    objects = extract_object(parse_tree)\n",
    "    if 'parse_tree' in output:\n",
    "        print('---Parse Tree---')\n",
    "        parse_tree.pretty_print()\n",
    "    if 'spo' in output:\n",
    "        print('---Subject---')\n",
    "        print(subject)\n",
    "        print('---Predicate---')\n",
    "        print(predicate)\n",
    "        print('---Object---')\n",
    "        print(objects)\n",
    "    if 'result' in output:\n",
    "        print('---Result---')\n",
    "        print(' '.join([subject[0], predicate[0], objects[0]]))\n",
    "\n",
    "def extract_subject (parse_tree):\n",
    "    # Extract the first noun found in NP_subtree\n",
    "    subject = []\n",
    "    for s in parse_tree.subtrees(lambda x: x.label() == 'NP'):\n",
    "        for t in s.subtrees(lambda y: y.label().startswith('NN')):\n",
    "            output = [t[0], extract_attr(t)]\n",
    "            # Avoid empty or repeated values\n",
    "            if output != [] and output not in subject:\n",
    "                subject.append(output) \n",
    "    if len(subject) != 0: return subject[0] \n",
    "    else: return ['']\n",
    "\n",
    "def extract_predicate (parse_tree):\n",
    "    # Extract the deepest(last) verb foybd ub VP_subtree\n",
    "    output, predicate = [],[]\n",
    "    for s in parse_tree.subtrees(lambda x: x.label() == 'VP'):\n",
    "        for t in s.subtrees(lambda y: y.label().startswith('VB')):\n",
    "            output = [t[0], extract_attr(t)]\n",
    "            if output != [] and output not in predicate:    \n",
    "                predicate.append(output)\n",
    "    if len(predicate) != 0: return predicate[-1]\n",
    "    else: return ['']\n",
    "\n",
    "def extract_object (parse_tree):\n",
    "    # Extract the first noun or first adjective in NP, PP, ADP siblings of VP_subtree\n",
    "    objects, output, word = [],[],[]\n",
    "    for s in parse_tree.subtrees(lambda x: x.label() == 'VP'):\n",
    "        for t in s.subtrees(lambda y: y.label() in ['NP','PP','ADP']):\n",
    "            if t.label() in ['NP','PP']:\n",
    "                for u in t.subtrees(lambda z: z.label().startswith('NN')):\n",
    "                    word = u          \n",
    "            else:\n",
    "                for u in t.subtrees(lambda z: z.label().startswith('JJ')):\n",
    "                    word = u\n",
    "            if len(word) != 0:\n",
    "                output = [word[0], extract_attr(word)]\n",
    "            if output != [] and output not in objects:\n",
    "                objects.append(output)\n",
    "    if len(objects) != 0: return objects[0]\n",
    "    else: return ['']\n",
    "\n",
    "def extract_attr (word):\n",
    "    attrs = []     \n",
    "    # Search among the word's siblings\n",
    "    if word.label().startswith('JJ'):\n",
    "        for p in word.parent(): \n",
    "            if p.label() == 'RB':\n",
    "                attrs.append(p[0])\n",
    "    elif word.label().startswith('NN'):\n",
    "        for p in word.parent():\n",
    "            if p.label() in ['DT','PRP$','POS','JJ','CD','ADJP','QP','NP']:\n",
    "                attrs.append(p[0])\n",
    "    elif word.label().startswith('VB'):\n",
    "        for p in word.parent():\n",
    "            if p.label() == 'ADVP':\n",
    "                attrs.append(p[0])\n",
    "    # Search among the word's uncles\n",
    "    if word.label().startswith('NN') or word.label().startswith('JJ'):\n",
    "        for p in word.parent().parent():\n",
    "            if p.label() == 'PP' and p != word.parent():\n",
    "                attrs.append(' '.join(p.flatten()))\n",
    "    elif word.label().startswith('VB'):\n",
    "        for p in word.parent().parent():\n",
    "            if p.label().startswith('VB') and p != word.parent():\n",
    "                attrs.append(' '.join(p.flatten()))\n",
    "    return attrs"
   ]
  },
  {
   "cell_type": "code",
   "execution_count": 27,
   "metadata": {},
   "outputs": [
    {
     "name": "stdout",
     "output_type": "stream",
     "text": [
      "---Parse Tree---\n",
      "                                                                             S                                                       \n",
      "                     ________________________________________________________|_____________________________________________________   \n",
      "                   SBAR                                                                      |   |                |                | \n",
      "    ________________|_______________________________                                         |   |                |                |  \n",
      "   |                                                S                                        |   |                |                | \n",
      "   |                       _________________________|________                                |   |                |                |  \n",
      "   |                      |                                  VP                              |   |                |                | \n",
      "   |                      |                          ________|____                           |   |                |                |  \n",
      "   |                      |                         |             VP                         |   |                VP               | \n",
      "   |                      |                         |    _________|____                      |   |     ___________|____            |  \n",
      "   |                      NP                        |   |              PP                    |   |    |    |           VP          | \n",
      "   |            __________|_______                  |   |     _________|_____                |   |    |    |       ____|___        |  \n",
      "   |           |                  PP                |   |    |               NP              |   |    |    |      |        PP      | \n",
      "   |           |               ___|________         |   |    |     __________|______         |   |    |    |      |     ___|___    |  \n",
      "   |           NP             |            NP       |   |    |    NP               ADJP      |   NP   |   ADVP    |    |       NP  | \n",
      "   |       ____|____          |            |        |   |    |    |           ______|____    |   |    |    |      |    |       |   |  \n",
      "   IN     DT        NN        IN           NN       MD  VB   TO  NNP         RB          JJ  ,  PRP   MD   RB     VB   IN     PRP  . \n",
      "   |      |         |         |            |        |   |    |    |          |           |   |   |    |    |      |    |       |   |  \n",
      "Although this     method      of     communication may seem  to ENTPs     somewhat      dry  ,  they can easily adapt  to      it  . \n",
      "\n",
      "---Subject---\n",
      "['method', ['this', 'of communication']]\n",
      "---Predicate---\n",
      "['adapt', []]\n",
      "---Object---\n",
      "['ENTPs', []]\n",
      "---Result---\n",
      "method adapt ENTPs\n"
     ]
    }
   ],
   "source": [
    "triplet_extraction('Although this method of communication may seem to ENTPs somewhat dry, they can easily adapt to it.')"
   ]
  },
  {
   "cell_type": "code",
   "execution_count": null,
   "metadata": {},
   "outputs": [],
   "source": []
  }
 ],
 "metadata": {
  "kernelspec": {
   "display_name": "Python 3",
   "language": "python",
   "name": "python3"
  },
  "language_info": {
   "codemirror_mode": {
    "name": "ipython",
    "version": 3
   },
   "file_extension": ".py",
   "mimetype": "text/x-python",
   "name": "python",
   "nbconvert_exporter": "python",
   "pygments_lexer": "ipython3",
   "version": "3.7.4"
  }
 },
 "nbformat": 4,
 "nbformat_minor": 2
}